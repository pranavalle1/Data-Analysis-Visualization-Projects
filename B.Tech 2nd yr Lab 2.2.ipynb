{
 "cells": [
  {
   "cell_type": "markdown",
   "id": "7f9742ad",
   "metadata": {},
   "source": [
    "# Lab 2.2: MM:10\n",
    "## Download the dataset of your choice and perform the following operations on it:\n",
    "### 1. Import the dataset\n",
    "### 2. Display the dimensions of the dataset\n",
    "### 3. Display first 10 rows of the dataset\n",
    "### 4. Check the class(data type) of each column of the dataset\n",
    "### 5. Calculate the number of null values present in each column of the dataset\n",
    "### 6. Calculate the percentage of null values present in each column of the dataset\n",
    "### 7. Drop the columns with more than 50% of null values\n",
    "### 8. Remove duplicate observations from the dataset (row and column wise) using drop_duplicate method\n",
    "### 9. Remove the null values from the dataset by dropping the rows\n",
    "### 10. Remove the null values from the dataset by dropping the columns\n",
    "### 11. Calculate the average of each numeric columns of the dataset\n",
    "### 12. Display all the unique values of each column\n",
    "### 13. Display the count of unique values of each column\n",
    "### 14. Fill the null values of numeric columns with the average value(mean) without using imputer method\n",
    "### 15. Fill the null values of categorical/text columns with the most frequent value(mode) without using imputer method\n",
    "### 16. Fill the null values of both categorical/text and numeric columns with the most frequent value(mode) by using sklearn library's imputer method\n",
    "### 17. Fill the null values of both categorical/text and numeric columns with the most frequent value(mode) by using sklearn library's imputer method on only specific rows and columns using iloc method\n",
    "### 18. Use the describe() function to display the mean, standard deviation, and Inter Quartile Range (IQR) values of the numeric columns of the dataset. \n",
    "### 19. Show the count of null values and missing values seperately in each column of the dataset\n",
    "### 20. Export the cleaned dataset to a new csv file without null or missing or duplicate value."
   ]
  }
 ],
 "metadata": {
  "kernelspec": {
   "display_name": "Python 3 (ipykernel)",
   "language": "python",
   "name": "python3"
  },
  "language_info": {
   "codemirror_mode": {
    "name": "ipython",
    "version": 3
   },
   "file_extension": ".py",
   "mimetype": "text/x-python",
   "name": "python",
   "nbconvert_exporter": "python",
   "pygments_lexer": "ipython3",
   "version": "3.9.13"
  }
 },
 "nbformat": 4,
 "nbformat_minor": 5
}
