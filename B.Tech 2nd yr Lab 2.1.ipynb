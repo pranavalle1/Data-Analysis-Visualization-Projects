{
 "cells": [
  {
   "cell_type": "markdown",
   "id": "3659ac9e",
   "metadata": {},
   "source": [
    "LAB [20 Marks]\n",
    "Lab 2 - To Perform Data Understanding and Data Pre-processing\n",
    "\n",
    "[10 Marks]\n",
    "Lab 2.1 - Data Understanding\n",
    " Step 1: Select the data set of your choice\n",
    " Step 2: Perform Data Understanding\n",
    "    Step 2.1: Collect Initial Data & Write Report\n",
    "    Step 2.2: Describe Data & Write Report\n",
    "    Step 2.3: Explore Data & Write Report\n",
    "    Step 2.4: Verify Data Quality & Write Report\n",
    "\n",
    "Data Understanding Report Format:\n",
    "Page Limit: 1 Page\n",
    "Format : PDF\n",
    "Dataset Link:\n",
    "About the Data:\n",
    "Phase 1 Report:\n",
    "Phase 2 Report:\n",
    "Phase 3 Report:\n",
    "Phase 4 Report:\n",
    "\n",
    "[10 Marks]\n",
    "Lab 2.2 - Data Pre-processing\n",
    "\n",
    "\n",
    "Datasets:\n",
    "1. Google Cloud Public Datasets\n",
    "2. Kaggle\n",
    "3. UCI Machine Learning Repository\n",
    "4. Amazon Web Services Open Data Registry\n",
    "5. Global Health Observatory Data Repository\n",
    "6. Data.gov\n",
    "7. National Center for Environmental Information\n",
    "8. Earthdata"
   ]
  },
  {
   "cell_type": "code",
   "execution_count": null,
   "id": "0c82c415",
   "metadata": {},
   "outputs": [],
   "source": []
  }
 ],
 "metadata": {
  "kernelspec": {
   "display_name": "Python 3 (ipykernel)",
   "language": "python",
   "name": "python3"
  },
  "language_info": {
   "codemirror_mode": {
    "name": "ipython",
    "version": 3
   },
   "file_extension": ".py",
   "mimetype": "text/x-python",
   "name": "python",
   "nbconvert_exporter": "python",
   "pygments_lexer": "ipython3",
   "version": "3.9.13"
  }
 },
 "nbformat": 4,
 "nbformat_minor": 5
}
