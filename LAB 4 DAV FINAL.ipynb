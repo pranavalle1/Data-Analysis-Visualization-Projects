{
 "cells": [
  {
   "cell_type": "markdown",
   "id": "c61641db",
   "metadata": {},
   "source": [
    "# Lab 4: MM:10\n",
    "### 1. Create a nd array of size 3 x 3 x 3 and perform subtraction operation as per x axis, y axis and z axis.\n",
    "### 2. Demonstrate the following on the above created nd array:\n",
    "#### 1. basic indexing\n",
    "#### 2. slicing\n",
    "#### 3. boolean indexing\n",
    "#### 4. fancy indexing\n",
    "### 3. Demonstrate the use of the following universal functions:\n",
    "#### 1. Trigonometric functions (atleast 2)\n",
    "#### 2. Statistical Functions (atleast 2)\n",
    "#### 3. Bit-twiddling Functions (atleast 2)\n",
    "### 4. Download the dataset of your choice and demonstrate the following operations on it:\n",
    "#### 1. Read the dataset in the form of array\n",
    "#### 2. Perform any 5 nd array operations on the above dataset (for ex. reshaping, ravel, transpose, vstack, concatenate etc.)\n",
    "### 5. Perform file input and output operations on nd array using save, load, savetxt and loadtxt methods."
   ]
  },
  {
   "cell_type": "markdown",
   "id": "61e99c90",
   "metadata": {},
   "source": [
    "\n",
    "# 1. Create a nd array of size 3 x 3 x 3 and perform subtraction operation as per x axis, y axis and z axis."
   ]
  },
  {
   "cell_type": "code",
   "execution_count": 1,
   "id": "73cfb2a1",
   "metadata": {},
   "outputs": [
    {
     "name": "stdout",
     "output_type": "stream",
     "text": [
      "Original array:\n",
      "[[[ 1  5  6]\n",
      "  [ 5  7  9]\n",
      "  [ 7  8  9]]\n",
      "\n",
      " [[15 22 16]\n",
      "  [14 15 18]\n",
      "  [ 6  7  8]]\n",
      "\n",
      " [[13 80 27]\n",
      "  [21 32 22]\n",
      "  [29 21 41]]]\n",
      "\n",
      "Subtracted along x axis:\n",
      "[[[14 17 10]\n",
      "  [ 9  8  9]\n",
      "  [-1 -1 -1]]\n",
      "\n",
      " [[-2 58 11]\n",
      "  [ 7 17  4]\n",
      "  [23 14 33]]]\n",
      "\n",
      "Subtracted along y axis:\n",
      "[[[  4   2   3]\n",
      "  [  2   1   0]]\n",
      "\n",
      " [[ -1  -7   2]\n",
      "  [ -8  -8 -10]]\n",
      "\n",
      " [[  8 -48  -5]\n",
      "  [  8 -11  19]]]\n",
      "\n",
      "Subtracted along z axis:\n",
      "[[[  4   1]\n",
      "  [  2   2]\n",
      "  [  1   1]]\n",
      "\n",
      " [[  7  -6]\n",
      "  [  1   3]\n",
      "  [  1   1]]\n",
      "\n",
      " [[ 67 -53]\n",
      "  [ 11 -10]\n",
      "  [ -8  20]]]\n"
     ]
    }
   ],
   "source": [
    "import numpy as np\n",
    "\n",
    "# create a 3x3x3 numpy array\n",
    "arr = np.array([[[1, 5, 6], [5, 7, 9], [7, 8, 9]],\n",
    "                [[15, 22, 16], [14, 15, 18], [6, 7, 8]],\n",
    "                [[13,80, 27], [21, 32, 22], [29, 21, 41]]])\n",
    "\n",
    "# subtract along the x axis\n",
    "x_subtracted = np.diff(arr, axis=0)\n",
    "\n",
    "# subtract along the y axis\n",
    "y_subtracted = np.diff(arr, axis=1)\n",
    "\n",
    "# subtract along the z axis\n",
    "z_subtracted = np.diff(arr, axis=2)inal array:\")\n",
    "print(arr)/\n",
    "\n",
    "print(\"\\nSubtracted along x axis:\")\n",
    "print(x_subtracted)\n",
    "\n",
    "print(\"\\nSubtracted along y axis:\")\n",
    "print(y_subtracted)\n",
    "\n",
    "print(\"\\nSubtracted along z axis:\")\n",
    "print(z_subtracted)\n",
    "\n"
   ]
  },
  {
   "cell_type": "markdown",
   "id": "c68e6aaa",
   "metadata": {},
   "source": [
    "\n",
    "# 2. Demonstrate the following on the above created nd array:¶\n"
   ]
  },
  {
   "cell_type": "markdown",
   "id": "47fd8ec7",
   "metadata": {},
   "source": [
    "             ###1. basic indexing"
   ]
  },
  {
   "cell_type": "code",
   "execution_count": 2,
   "id": "6aaed5d9",
   "metadata": {},
   "outputs": [
    {
     "name": "stdout",
     "output_type": "stream",
     "text": [
      "7\n",
      "[5 7 9]\n",
      "[80 32 21]\n"
     ]
    }
   ],
   "source": [
    "# access a single element\n",
    "print(arr[1, 2, 1]) \n",
    "\n",
    "# access an entire row\n",
    "print(arr[0, 1, :])  \n",
    "\n",
    "# access a column\n",
    "print(arr[2, :, 1])  \n"
   ]
  },
  {
   "cell_type": "markdown",
   "id": "5747a261",
   "metadata": {},
   "source": [
    "            ### 2. slicing"
   ]
  },
  {
   "cell_type": "code",
   "execution_count": 3,
   "id": "580809c8",
   "metadata": {},
   "outputs": [
    {
     "name": "stdout",
     "output_type": "stream",
     "text": [
      "[[[15 18]\n",
      "  [ 7  8]]\n",
      "\n",
      " [[32 22]\n",
      "  [21 41]]]\n",
      "[[15 22 16]\n",
      " [14 15 18]\n",
      " [ 6  7  8]]\n",
      "[[ 5  7  9]\n",
      " [14 15 18]\n",
      " [21 32 22]]\n"
     ]
    }
   ],
   "source": [
    "# get a sub-array\n",
    "print(arr[1:, 1:, 1:])  \n",
    "\n",
    "# slice along x-axis\n",
    "print(arr[1, :, :])  \n",
    "\n",
    "# slice along y-axis\n",
    "print(arr[:, 1, :])  \n"
   ]
  },
  {
   "cell_type": "markdown",
   "id": "09e3c9c3",
   "metadata": {},
   "source": [
    "            ###3. boolean indexing"
   ]
  },
  {
   "cell_type": "code",
   "execution_count": 4,
   "id": "2a731796",
   "metadata": {},
   "outputs": [
    {
     "name": "stdout",
     "output_type": "stream",
     "text": [
      "[15 22 16 14 15 18 13 80 27 21 32 22 29 21 41]\n",
      "[[[1 5 6]\n",
      "  [5 7 9]\n",
      "  [7 8 9]]\n",
      "\n",
      " [[0 0 0]\n",
      "  [0 0 0]\n",
      "  [6 7 8]]\n",
      "\n",
      " [[0 0 0]\n",
      "  [0 0 0]\n",
      "  [0 0 0]]]\n"
     ]
    }
   ],
   "source": [
    "# create a boolean mask\n",
    "mask = arr > 10\n",
    "\n",
    "# use the mask to get elements that satisfy the condition\n",
    "print(arr[mask])  \n",
    "\n",
    "# assign a new value to the elements that satisfy the condition\n",
    "arr[mask] = 0\n",
    "print(arr)  "
   ]
  },
  {
   "cell_type": "code",
   "execution_count": 5,
   "id": "779fa8f1",
   "metadata": {},
   "outputs": [
    {
     "name": "stdout",
     "output_type": "stream",
     "text": [
      "[8 0]\n",
      "[[[  1   5   6]\n",
      "  [  5   7   9]\n",
      "  [  7 100   9]]\n",
      "\n",
      " [[  0 100   0]\n",
      "  [  0   0   0]\n",
      "  [  6   7   8]]\n",
      "\n",
      " [[  0   0   0]\n",
      "  [  0   0   0]\n",
      "  [  0   0   0]]]\n"
     ]
    },
    {
     "name": "stderr",
     "output_type": "stream",
     "text": [
      "C:\\Users\\prana\\AppData\\Local\\Temp\\ipykernel_36204\\3422740146.py:3: FutureWarning: Using a non-tuple sequence for multidimensional indexing is deprecated; use `arr[tuple(seq)]` instead of `arr[seq]`. In the future this will be interpreted as an array index, `arr[np.array(seq)]`, which will result either in an error or a different result.\n",
      "  print(arr[indices])\n",
      "C:\\Users\\prana\\AppData\\Local\\Temp\\ipykernel_36204\\3422740146.py:6: FutureWarning: Using a non-tuple sequence for multidimensional indexing is deprecated; use `arr[tuple(seq)]` instead of `arr[seq]`. In the future this will be interpreted as an array index, `arr[np.array(seq)]`, which will result either in an error or a different result.\n",
      "  arr[indices] = 100\n"
     ]
    }
   ],
   "source": [
    "# select specific elements using fancy indexing\n",
    "indices = [[0, 1], [2, 0], [1, 1]]\n",
    "print(arr[indices]) \n",
    "\n",
    "# assign a new value to the elements selected using fancy indexing\n",
    "arr[indices] = 100\n",
    "print(arr)  "
   ]
  },
  {
   "cell_type": "markdown",
   "id": "c874919c",
   "metadata": {},
   "source": [
    "# 3. Demonstrate the use of the following universal functions:"
   ]
  },
  {
   "cell_type": "markdown",
   "id": "5c3c3a4c",
   "metadata": {},
   "source": [
    "#             1. Trigonometric functions (atleast 2)"
   ]
  },
  {
   "cell_type": "code",
   "execution_count": 6,
   "id": "2d19211b",
   "metadata": {},
   "outputs": [
    {
     "name": "stdout",
     "output_type": "stream",
     "text": [
      "Sine of angles in the array:\n",
      "[0.00000000e+00 5.00000000e-01 7.07106781e-01 8.66025404e-01\n",
      " 1.00000000e+00 1.22464680e-16]\n",
      "Inverse Sine of sine values:\n",
      "[0.0000000e+00 3.0000000e+01 4.5000000e+01 6.0000000e+01 9.0000000e+01\n",
      " 7.0167093e-15]\n",
      "Sine hyperbolic of angles in the array:\n",
      "[ 0.          0.54785347  0.86867096  1.24936705  2.3012989  11.54873936]\n"
     ]
    }
   ],
   "source": [
    "# Python code to demonstrate trigonometric function\n",
    "import numpy as np\n",
    "\n",
    "# create an array of angles\n",
    "angles = np.array([0, 30, 45, 60, 90, 180])\n",
    "\n",
    "# conversion of degree into radians\n",
    "# using deg2rad function\n",
    "radians = np.deg2rad(angles)\n",
    "\n",
    "# sine of angles\n",
    "print('Sine of angles in the array:')\n",
    "sine_value = np.sin(radians)\n",
    "print(np.sin(radians))\n",
    "\n",
    "# inverse sine of sine values\n",
    "print('Inverse Sine of sine values:')\n",
    "print(np.rad2deg(np.arcsin(sine_value)))\n",
    "\n",
    "# hyperbolic sine of angles\n",
    "print('Sine hyperbolic of angles in the array:')\n",
    "sineh_value = np.sinh(radians)\n",
    "print(np.sinh(radians))\n"
   ]
  },
  {
   "cell_type": "markdown",
   "id": "c90badf0",
   "metadata": {},
   "source": [
    "#           2. Statistical Functions (atleast 2"
   ]
  },
  {
   "cell_type": "code",
   "execution_count": 10,
   "id": "a4560c37",
   "metadata": {},
   "outputs": [
    {
     "name": "stdout",
     "output_type": "stream",
     "text": [
      "Range of the weight of the students: \n",
      "51.0\n",
      "Weight below which 70 % student fall: \n",
      "80.19999999999999\n",
      "Mean weight of the students: \n",
      "67.6875\n",
      "Median weight of the students: \n",
      "64.0\n"
     ]
    }
   ],
   "source": [
    "# Python code demonstrate statistical function\n",
    "import numpy as np\n",
    "\n",
    "# construct a weight array\n",
    "weight = np.array([50, 82.5, 100, 81, 55, 73, 51, 49])\n",
    "\n",
    "# range of weight i.e. max weight-min weight\n",
    "print('Range of the weight of the students: ')\n",
    "print(np.ptp(weight))\n",
    "\n",
    "# percentile\n",
    "print('Weight below which 70 % student fall: ')\n",
    "print(np.percentile(weight, 70))\n",
    "\n",
    "# mean\n",
    "print('Mean weight of the students: ')\n",
    "print(np.mean(weight))\n",
    "\n",
    "# median\n",
    "print('Median weight of the students: ')\n",
    "print(np.median(weight))"
   ]
  },
  {
   "cell_type": "markdown",
   "id": "9ca9f413",
   "metadata": {},
   "source": [
    "#               3. Bit-twiddling Functions (atleast 2)\n"
   ]
  },
  {
   "cell_type": "code",
   "execution_count": 9,
   "id": "b13720e5",
   "metadata": {},
   "outputs": [
    {
     "name": "stdout",
     "output_type": "stream",
     "text": [
      "inversion of even no. array: \n",
      "[-2 -3 -4 -5 -6 -7 -8]\n",
      "left_shift of even no. array: \n",
      "[ 2  4  6  8 10 12 14]\n",
      "right_shift of even no. array: \n",
      "[0 1 1 2 2 3 3]\n"
     ]
    }
   ],
   "source": [
    "# Python code to demonstrate bitwise-function\n",
    "import numpy as np\n",
    "\n",
    "# construct an array of even and odd numbers\n",
    "even = np.array([1, 2, 3, 4, 5, 6, 7])\n",
    "odd = np.array([0, 2, 4, 8, 10, 18, 21])\n",
    "\n",
    "# invert or not\n",
    "print('inversion of even no. array: ')\n",
    "print(np.invert(even))\n",
    "\n",
    "# left_shift\n",
    "print('left_shift of even no. array: ')\n",
    "print(np.left_shift(even, 1))\n",
    "\n",
    "# right_shift\n",
    "print('right_shift of even no. array: ')\n",
    "print(np.right_shift(even, 1))\n"
   ]
  },
  {
   "cell_type": "markdown",
   "id": "11beca7d",
   "metadata": {},
   "source": [
    "# 4. Download the dataset of your choice and demonstrate the following operations on it:"
   ]
  },
  {
   "cell_type": "markdown",
   "id": "40c11fff",
   "metadata": {},
   "source": [
    "#      1. Read the dataset in the form of array"
   ]
  },
  {
   "cell_type": "code",
   "execution_count": 12,
   "id": "a66df2a5",
   "metadata": {},
   "outputs": [],
   "source": [
    "import csv\n",
    "import numpy as np\n",
    "\n",
    "data = np.genfromtxt(r'C:\\Users\\prana\\Downloads\\DEM_lab\\color code1.csv', delimiter=',')\n",
    "\n"
   ]
  },
  {
   "cell_type": "markdown",
   "id": "d2c01807",
   "metadata": {},
   "source": [
    "# 2. Perform any 5 nd array operations on the above dataset (for ex. reshaping, ravel, transpose, vstack, concatenate etc.)"
   ]
  },
  {
   "cell_type": "code",
   "execution_count": 19,
   "id": "86c1ce62",
   "metadata": {
    "scrolled": true
   },
   "outputs": [
    {
     "data": {
      "text/plain": [
       "array([[nan],\n",
       "       [nan],\n",
       "       [nan],\n",
       "       [12.],\n",
       "       [nan],\n",
       "       [13.],\n",
       "       [nan],\n",
       "       [14.]])"
      ]
     },
     "execution_count": 19,
     "metadata": {},
     "output_type": "execute_result"
    }
   ],
   "source": [
    "reshaped_data = data.reshape((8, 1))\n",
    "\n",
    "reshaped_data\n"
   ]
  },
  {
   "cell_type": "code",
   "execution_count": 20,
   "id": "8ae3ce9f",
   "metadata": {},
   "outputs": [
    {
     "data": {
      "text/plain": [
       "array([nan, nan, nan, 12., nan, 13., nan, 14.])"
      ]
     },
     "execution_count": 20,
     "metadata": {},
     "output_type": "execute_result"
    }
   ],
   "source": [
    "flattened_data = data.ravel()\n",
    "flattened_data\n"
   ]
  },
  {
   "cell_type": "code",
   "execution_count": 21,
   "id": "066bcd22",
   "metadata": {},
   "outputs": [
    {
     "data": {
      "text/plain": [
       "array([[nan, nan, nan, nan],\n",
       "       [nan, 12., 13., 14.]])"
      ]
     },
     "execution_count": 21,
     "metadata": {},
     "output_type": "execute_result"
    }
   ],
   "source": [
    "transposed_data = data.transpose()\n",
    "transposed_data"
   ]
  },
  {
   "cell_type": "code",
   "execution_count": 22,
   "id": "21e15581",
   "metadata": {},
   "outputs": [
    {
     "data": {
      "text/plain": [
       "array([[nan, nan],\n",
       "       [nan, 12.],\n",
       "       [nan, 13.],\n",
       "       [nan, 14.],\n",
       "       [nan, nan],\n",
       "       [nan, 12.],\n",
       "       [nan, 13.],\n",
       "       [nan, 14.]])"
      ]
     },
     "execution_count": 22,
     "metadata": {},
     "output_type": "execute_result"
    }
   ],
   "source": [
    "stacked_data = np.vstack((data, data))\n",
    "stacked_data\n"
   ]
  },
  {
   "cell_type": "code",
   "execution_count": 23,
   "id": "b179f406",
   "metadata": {},
   "outputs": [
    {
     "data": {
      "text/plain": [
       "array([[nan, nan, nan, nan],\n",
       "       [nan, 12., nan, 12.],\n",
       "       [nan, 13., nan, 13.],\n",
       "       [nan, 14., nan, 14.]])"
      ]
     },
     "execution_count": 23,
     "metadata": {},
     "output_type": "execute_result"
    }
   ],
   "source": [
    "concatenated_data = np.concatenate((data, data), axis=1)\n",
    "concatenated_data\n"
   ]
  },
  {
   "cell_type": "code",
   "execution_count": null,
   "id": "385357ba",
   "metadata": {},
   "outputs": [],
   "source": []
  }
 ],
 "metadata": {
  "kernelspec": {
   "display_name": "Python 3 (ipykernel)",
   "language": "python",
   "name": "python3"
  },
  "language_info": {
   "codemirror_mode": {
    "name": "ipython",
    "version": 3
   },
   "file_extension": ".py",
   "mimetype": "text/x-python",
   "name": "python",
   "nbconvert_exporter": "python",
   "pygments_lexer": "ipython3",
   "version": "3.9.13"
  }
 },
 "nbformat": 4,
 "nbformat_minor": 5
}
