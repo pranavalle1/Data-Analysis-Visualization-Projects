{
 "cells": [
  {
   "cell_type": "code",
   "execution_count": 8,
   "id": "cea93ba5",
   "metadata": {},
   "outputs": [
    {
     "name": "stdout",
     "output_type": "stream",
     "text": [
      "addition of a: 10 & b: 3 is: 13\n",
      "substraction of a: 10 & b: 3 is: 7\n",
      "multiplication of a: 10 & b: 3 is: 30\n",
      "division of a: 10 & b: 3 is: 3.3333333333333335\n",
      "floor divison of a: 10 & b: 3 is: 3\n",
      "moduli of a: 10 & b: 3 is: 1\n",
      "exponent of a: 10 & b: 3 is: 1000\n"
     ]
    }
   ],
   "source": [
    "# Write a program to perform different arithemetic operations on numbers in python.\n",
    "\n",
    "a=10; b=3\n",
    "print(\"addition of a:\",a,\"& b:\",b,\"is:\",a+b)\n",
    "print(\"substraction of a:\",a,\"& b:\",b,\"is:\",a-b)\n",
    "print(\"multiplication of a:\",a,\"& b:\",b,\"is:\",a*b)\n",
    "print(\"division of a:\",a,\"& b:\",b,\"is:\",a/b)\n",
    "print(\"floor divison of a:\",a,\"& b:\",b,\"is:\",a//b)\n",
    "print(\"moduli of a:\",a,\"& b:\",b,\"is:\",a%b)\n",
    "print(\"exponent of a:\",a,\"& b:\",b,\"is:\",a**b)"
   ]
  },
  {
   "cell_type": "code",
   "execution_count": 1,
   "id": "41bd10f9",
   "metadata": {},
   "outputs": [
    {
     "name": "stdout",
     "output_type": "stream",
     "text": [
      "Select operation.\n",
      "1.Add\n",
      "2.Subtract\n",
      "3.Multiply\n",
      "4.Divide\n",
      "Enter choice(1/2/3/4): 1\n",
      "Enter first number: 1\n",
      "Enter second number: 1\n",
      "1.0 + 1.0 = 2.0\n",
      "Let's do next calculation? (yes/no): no\n"
     ]
    }
   ],
   "source": [
    "# Basic Calculator\n",
    "# This function adds two numbers\n",
    "def add(x, y):\n",
    "    return x + y\n",
    "\n",
    "# This function subtracts two numbers\n",
    "def subtract(x, y):\n",
    "    return x - y\n",
    "\n",
    "# This function multiplies two numbers\n",
    "def multiply(x, y):\n",
    "    return x * y\n",
    "\n",
    "# This function divides two numbers\n",
    "def divide(x, y):\n",
    "    return x / y\n",
    "\n",
    "\n",
    "print(\"Select operation.\")\n",
    "print(\"1.Add\")\n",
    "print(\"2.Subtract\")\n",
    "print(\"3.Multiply\")\n",
    "print(\"4.Divide\")\n",
    "\n",
    "while True:\n",
    "    # take input from the user\n",
    "    choice = input(\"Enter choice(1/2/3/4): \")\n",
    "\n",
    "    # check if choice is one of the four options\n",
    "    if choice in ('1', '2', '3', '4'):\n",
    "        num1 = float(input(\"Enter first number: \"))\n",
    "        num2 = float(input(\"Enter second number: \"))\n",
    "\n",
    "        if choice == '1':\n",
    "            print(num1, \"+\", num2, \"=\", add(num1, num2))\n",
    "\n",
    "        elif choice == '2':\n",
    "            print(num1, \"-\", num2, \"=\", subtract(num1, num2))\n",
    "\n",
    "        elif choice == '3':\n",
    "            print(num1, \"*\", num2, \"=\", multiply(num1, num2))\n",
    "\n",
    "        elif choice == '4':\n",
    "            print(num1, \"/\", num2, \"=\", divide(num1, num2))\n",
    "        \n",
    "        # check if user wants another calculation\n",
    "        # break the while loop if answer is no\n",
    "        next_calculation = input(\"Let's do next calculation? (yes/no): \")\n",
    "        if next_calculation == \"no\":\n",
    "          break\n",
    "    \n",
    "    else:\n",
    "        print(\"Invalid Input\")"
   ]
  },
  {
   "cell_type": "code",
   "execution_count": 3,
   "id": "eff8f3cb",
   "metadata": {},
   "outputs": [
    {
     "name": "stdout",
     "output_type": "stream",
     "text": [
      "SALARY PROGRAM\n",
      "Enter name of employee:A\n",
      "Enter Basic Salary :1000\n",
      "\n",
      "\n",
      "\n",
      "S A L A R Y   D E T A I L E D   B R E A K U P \n",
      "==============================================\n",
      " NAME OF EMPLOYEE :  A\n",
      " BASIC SALARY :  1000.0\n",
      " DEARNESS ALLOW. :  250.0\n",
      " HOUSE RENT ALLOW.:  150.0\n",
      " TRAVEL ALLOW. :  75.0\n",
      "==============================================\n",
      " NET SALARY PAY :  1475.0\n",
      " PROVIDENT FUND :  150.0\n",
      "==============================================\n",
      " GROSS PAYMENT :  1325.0\n",
      "==============================================\n"
     ]
    }
   ],
   "source": [
    "#Calculate the Gross Salary of an employee for following allowance & deduction.\n",
    "#Get Basic Salary of Employee,\n",
    "#DA = 25% of Basic,\n",
    "#HRA = 15% of Basic,\n",
    "#PF = 12% of Basic,\n",
    "#TA = 7.50% of Basic.\n",
    "#Net Pay = Basic + DA + HRA + TA\n",
    "#Gross Pay = Net Pay - PF.\n",
    "\n",
    "print(\"SALARY PROGRAM\")\n",
    "name= str(input(\"Enter name of employee:\"))\n",
    "basic=float(input(\"Enter Basic Salary :\"))\n",
    "da=float(basic*0.25)\n",
    "hra=float(basic*0.15)\n",
    "pf=float((basic+da)*0.12)\n",
    "ta=float(basic*0.075)\n",
    "netpay=float(basic+da+hra+ta)\n",
    "grosspay=float(netpay-pf)\n",
    "\n",
    "print(\"\\n\\n\")\n",
    "print(\"S A L A R Y   D E T A I L E D   B R E A K U P \")\n",
    "print(\"==============================================\")\n",
    "print(\" NAME OF EMPLOYEE : \",name)\n",
    "print(\" BASIC SALARY : \",basic)\n",
    "print(\" DEARNESS ALLOW. : \",da)\n",
    "print(\" HOUSE RENT ALLOW.: \",hra)\n",
    "print(\" TRAVEL ALLOW. : \",ta)\n",
    "print(\"==============================================\")\n",
    "print(\" NET SALARY PAY : \",netpay)\n",
    "print(\" PROVIDENT FUND : \",pf)\n",
    "print(\"==============================================\")\n",
    "print(\" GROSS PAYMENT : \",grosspay)\n",
    "print(\"==============================================\")"
   ]
  },
  {
   "cell_type": "code",
   "execution_count": 4,
   "id": "b05e7c13",
   "metadata": {},
   "outputs": [
    {
     "name": "stdout",
     "output_type": "stream",
     "text": [
      "Enter a number: 10\n",
      "The factorial of 10 is 3628800\n"
     ]
    }
   ],
   "source": [
    "# Python 3 program to find factorial of given number iteration\n",
    "num = int(input(\"Enter a number: \"))    \n",
    "factorial = 1    \n",
    "if num < 0:    \n",
    "   print(\" Factorial does not exist for negative numbers\")    \n",
    "elif num == 0:    \n",
    "   print(\"The factorial of 0 is 1\")    \n",
    "else:    \n",
    "   for i in range(1,num + 1):    \n",
    "       factorial = factorial*i    \n",
    "   print(\"The factorial of\",num,\"is\",factorial)  "
   ]
  },
  {
   "cell_type": "code",
   "execution_count": 11,
   "id": "07ed6ee4",
   "metadata": {},
   "outputs": [
    {
     "name": "stdout",
     "output_type": "stream",
     "text": [
      "Enter a number: 10\n",
      "The factorial of 10 is 3628800\n",
      "This is a recursive function\n",
      "    to find the factorial of an integer\n"
     ]
    }
   ],
   "source": [
    "# Python program to find the factorial of a number provided by the user using recursion\n",
    "def factorial(x):\n",
    "    \"\"\"This is a recursive function\n",
    "    to find the factorial of an integer\"\"\"\n",
    "\n",
    "    if x == 1:\n",
    "        return 1\n",
    "    else:\n",
    "        # recursive call to the function\n",
    "        return (x * factorial(x-1))\n",
    "\n",
    "# change the value for a different result\n",
    "num = int(input(\"Enter a number: \"))\n",
    "\n",
    "# to take input from the user\n",
    "# num = int(input(\"Enter a number: \"))\n",
    "# call the factorial function\n",
    "result = factorial(num)\n",
    "print(\"The factorial of\", num, \"is\", result)\n",
    "print (factorial.__doc__)"
   ]
  },
  {
   "cell_type": "code",
   "execution_count": 16,
   "id": "7d7d2971",
   "metadata": {},
   "outputs": [
    {
     "name": "stdout",
     "output_type": "stream",
     "text": [
      "Enter number of values : 5\n",
      "Enter integer : 1\n",
      "Enter integer : 2\n",
      "Enter integer : 3\n",
      "Enter integer : 4\n",
      "Enter integer : 5\n",
      "Circulating the elements of list  [1, 2, 3, 4, 5]\n",
      "[2, 3, 4, 5, 1]\n",
      "[3, 4, 5, 1, 2]\n",
      "[4, 5, 1, 2, 3]\n",
      "[5, 1, 2, 3, 4]\n",
      "[1, 2, 3, 4, 5]\n"
     ]
    }
   ],
   "source": [
    "# Circulate the values of n variables\n",
    "#range(start, stop[, step])\n",
    "\n",
    "no_of_terms = int(input(\"Enter number of values : \"))  \n",
    "\n",
    "list1 = []\n",
    "for val in range(0,no_of_terms,1):\n",
    "    ele = int(input(\"Enter integer : \"))\n",
    "    list1.append(ele)\n",
    "\n",
    "print(\"Circulating the elements of list \", list1)\n",
    "   \n",
    "for val in range(0,no_of_terms,1):\n",
    "    ele = list1.pop(0)\n",
    "    list1.append(ele)\n",
    "    print(list1)"
   ]
  },
  {
   "cell_type": "code",
   "execution_count": null,
   "id": "81e064d5",
   "metadata": {},
   "outputs": [],
   "source": [
    "# Python program to check if year is a leap year or not\n",
    "year = int(input(\"Enter a year: \"))\n",
    "\n",
    "# divided by 100 means century year (ending with 00)\n",
    "# century year divided by 400 is leap year\n",
    "if (year % 400 == 0) and (year % 100 == 0):\n",
    "    print(\"{0} is a leap year\".format(year))\n",
    "\n",
    "# not divided by 100 means not a century year\n",
    "# year divided by 4 is a leap year\n",
    "elif (year % 4 ==0) and (year % 100 != 0):\n",
    "    print(\"{0} is a leap year\".format(year))\n",
    "\n",
    "# if not divided by both 400 (century year) and 4 (not century year)\n",
    "# year is not leap year\n",
    "else:\n",
    "    print(\"{0} is not a leap year\".format(year))"
   ]
  },
  {
   "cell_type": "code",
   "execution_count": 2,
   "id": "21571896",
   "metadata": {},
   "outputs": [
    {
     "name": "stdout",
     "output_type": "stream",
     "text": [
      "Enter the number: 6754\n",
      "The reverse number is:  4576\n",
      "The number is not a palindrome\n"
     ]
    }
   ],
   "source": [
    "#to check whether the given number is a palindrome or not\n",
    "\n",
    "num = int(input(\"Enter the number: \")) #6754\n",
    "a = num\n",
    "reverse = 0\n",
    "#6754\n",
    " \n",
    "while (num > 0): \n",
    "    dig = num % 10 #digit #rem 4\n",
    "    reverse = reverse * 10 + dig #add 4 to rev\n",
    "    num = num // 10 #floor div #6754 = 675.4, 5: need #remove 4 from 6754\n",
    " \n",
    "print(\"The reverse number is: \", reverse)\n",
    " \n",
    "if a==reverse:\n",
    "    print(\"The number is a palindrome\")\n",
    "else:\n",
    "    print(\"The number is not a palindrome\")    "
   ]
  },
  {
   "cell_type": "code",
   "execution_count": 36,
   "id": "937ba6ed",
   "metadata": {},
   "outputs": [
    {
     "name": "stdout",
     "output_type": "stream",
     "text": [
      "[[2, 4], [6, 8]]\n"
     ]
    }
   ],
   "source": [
    "# Program to add two matrices using nested loop\n",
    "\n",
    "A = [[1,2],[3,4]]\n",
    "\n",
    "B = [[1,2],[3,4]]\n",
    "\n",
    "\n",
    "result = [[0,0],[0,0]]\n",
    "\n",
    "# iterate through rows\n",
    "for i in range(len(A)):\n",
    "# iterate through columns\n",
    "\tfor j in range(len(A[0])):\n",
    "\t\tresult[i][j] = A[i][j] + B[i][j]\n",
    " \n",
    "print(result)\n",
    "#for r in result:\n",
    "#\tprint(r)\n"
   ]
  },
  {
   "cell_type": "code",
   "execution_count": 25,
   "id": "bffb8d2b",
   "metadata": {},
   "outputs": [
    {
     "name": "stdout",
     "output_type": "stream",
     "text": [
      "[[7, 10], [15, 22]]\n"
     ]
    }
   ],
   "source": [
    "# Program to multiply two matrices using nested loops\n",
    "\n",
    "# take a 2x2 matrix\n",
    "A = [[1, 2],[3, 4]]\n",
    "\n",
    "# take a 2x2 matrix\n",
    "B = [[1,2],[3,4]]\n",
    "\t\n",
    "result = [[0,0],[0,0]]\n",
    "\n",
    "# iterating by row of A\n",
    "for i in range(len(A)):\n",
    "\n",
    "\t# iterating by column by B\n",
    "\tfor j in range(len(B[0])):\n",
    "\n",
    "\t\t# iterating by rows of B\n",
    "\t\tfor k in range(len(B)):\n",
    "\t\t\tresult[i][j] += A[i][k] * B[k][j]\n",
    "print(result)\n",
    "#for r in result:\n",
    "#\tprint(r)\n"
   ]
  },
  {
   "cell_type": "code",
   "execution_count": 56,
   "id": "a3a75a81",
   "metadata": {},
   "outputs": [
    {
     "name": "stdout",
     "output_type": "stream",
     "text": [
      "[[1, 3], [2, 4]]\n"
     ]
    }
   ],
   "source": [
    "# Program to transpose a matrix using a nested loop\n",
    "\n",
    "X = [[1,2],[3 ,4]]\n",
    "\n",
    "result = [[0,0],[0,0]]\n",
    "\n",
    "# iterate through rows\n",
    "for i in range(len(X)):\n",
    "   # iterate through columns\n",
    "   for j in range(len(X[0])):\n",
    "       result[j][i] = X[i][j]\n",
    "print(result)\n",
    "#for r in result:\n",
    "#    print(r)"
   ]
  },
  {
   "cell_type": "code",
   "execution_count": 1,
   "id": "79d7293a",
   "metadata": {},
   "outputs": [
    {
     "name": "stdout",
     "output_type": "stream",
     "text": [
      "Enter the list Size3\n",
      "Enter a value2\n",
      "Enter a value5\n",
      "Enter a value9\n",
      "[2, 5, 9]\n",
      "Enter a card to insert1\n",
      "[1, 2, 5, 9]\n"
     ]
    }
   ],
   "source": [
    "#insert a card in the list of sorted cards\n",
    "List_Size = int(input(\"Enter the list Size\"))\n",
    "Position =0\n",
    "aList=[]\n",
    "while(Position < List_Size):\n",
    "    avalue=int(input(\"Enter a value\"))\n",
    "    aList.append(avalue)\n",
    "    Position+=1\n",
    "print(aList)\n",
    "   \n",
    "avalue=int(input(\"Enter a card to insert\")) # a new card\n",
    "#x=avalue\n",
    "aList.append(0) \n",
    "Position = List_Size-1\n",
    "while(Position >=0):\n",
    "    if(avalue<aList[Position]):\n",
    "        aList[Position+1]=aList[Position]\n",
    "        aList[Position]=avalue\n",
    "    else:\n",
    "        aList[Position+1]=avalue\n",
    "        break \n",
    "    Position-=1\n",
    "print(aList)"
   ]
  },
  {
   "cell_type": "code",
   "execution_count": 8,
   "id": "17fc19fa",
   "metadata": {},
   "outputs": [
    {
     "name": "stdout",
     "output_type": "stream",
     "text": [
      "Enter the value of n: 2\n",
      "[2, 5, 7, 9]\n"
     ]
    }
   ],
   "source": [
    "def insert(list, n):\n",
    "    index = len(list)\n",
    "    for i in range(len(list)):\n",
    "        if list[i]>n:\n",
    "            index = i\n",
    "            break\n",
    "    if index == len(list):\n",
    "        list = list[:index] + [n]\n",
    "    else:\n",
    "        list = list[:index] + [n] + list[index:]\n",
    "    return list\n",
    "\n",
    "list = [5, 7, 9]\n",
    "n = int(input(\"Enter the value of n: \"))\n",
    "print(insert(list, n))"
   ]
  },
  {
   "cell_type": "markdown",
   "id": "e81b7bc0",
   "metadata": {},
   "source": [
    "1. Count the following in a file:\n",
    "Number of characters\n",
    "Number of words\n",
    "Number of lines\n"
   ]
  },
  {
   "cell_type": "markdown",
   "id": "e7ba863e",
   "metadata": {},
   "source": [
    "You can use enumerate() in a loop in almost the same way\n",
    "that you use the original iterable object.\n",
    "Instead of putting the iterable directly after\n",
    "in in the for loop, you put it inside the parentheses of enumerate()"
   ]
  },
  {
   "cell_type": "code",
   "execution_count": 10,
   "id": "2ee1b099",
   "metadata": {},
   "outputs": [
    {
     "name": "stdout",
     "output_type": "stream",
     "text": [
      "0 a\n",
      "1 b\n",
      "2 c\n"
     ]
    }
   ],
   "source": [
    "values = [\"a\", \"b\", \"c\"]\n",
    "for count, value in enumerate(values):\n",
    "    print(count, value)"
   ]
  },
  {
   "cell_type": "code",
   "execution_count": 2,
   "id": "8ad5bbf1",
   "metadata": {},
   "outputs": [
    {
     "name": "stdout",
     "output_type": "stream",
     "text": [
      "Number of character 41\n",
      "Number of words ['Hyderabad']\n",
      "Total Number of lines: 3\n"
     ]
    }
   ],
   "source": [
    "#Write a program to count number of lines, words and characters in a text file:\n",
    "a=open(\"C:/Users/Faculty-34/Desktop/a.txt\", 'r')\n",
    "line = 0\n",
    "word = 0\n",
    "character = 0\n",
    "#count = 0\n",
    "for count, line in enumerate(a):\n",
    "    character = character +len(line)\n",
    "    words = line.split ( )\n",
    "    word = word + len(words)\n",
    "    \n",
    "#print('Number of line', line)\n",
    "print('Number of character', character)\n",
    "print('Number of words', words)\n",
    "print('Total Number of lines:', count + 1)"
   ]
  },
  {
   "cell_type": "markdown",
   "id": "c82a6aee",
   "metadata": {},
   "source": [
    "2. Perform the following on a file:\n",
    "Read\n",
    "Split\n",
    "Copy\n",
    "Write\n"
   ]
  },
  {
   "cell_type": "code",
   "execution_count": 3,
   "id": "58beeb6d",
   "metadata": {},
   "outputs": [
    {
     "name": "stdout",
     "output_type": "stream",
     "text": [
      "Hi\n",
      "\n",
      "Welcome to Woxsen University\n",
      "\n",
      "Hyderabad\n",
      "['Hi']\n",
      "['Welcome', 'to', 'Woxsen', 'University']\n",
      "['Hyderabad']\n"
     ]
    }
   ],
   "source": [
    "#read\n",
    "aa=open(\"C:/Users/Faculty-34/Desktop/a.txt\", 'r')\n",
    "for line in aa:\n",
    "    print(line)\n",
    "    \n",
    "#Splitting line in a text line:\n",
    "aa=open(\"C:/Users/Faculty-34/Desktop/a.txt\", 'r+')\n",
    "for line in aa:\n",
    "    words=line.split()\n",
    "    print(words)"
   ]
  },
  {
   "cell_type": "code",
   "execution_count": 2,
   "id": "ce1eb7c9",
   "metadata": {},
   "outputs": [
    {
     "name": "stdout",
     "output_type": "stream",
     "text": [
      "['Hi']\n",
      "['Welcome', 'to', 'Woxsen', 'University']\n",
      "['Hyderabad']\n"
     ]
    }
   ],
   "source": [
    "#Splitting line in a text line:\n",
    "aa=open(\"C:/Users/Faculty-34/Desktop/a.txt\", 'r+')\n",
    "for line in aa:\n",
    "    words=line.split()\n",
    "    print(words)"
   ]
  },
  {
   "cell_type": "code",
   "execution_count": 3,
   "id": "c1e05435",
   "metadata": {},
   "outputs": [],
   "source": [
    "#copy the contents of one file to another\n",
    "source=open(\"C:/Users/Faculty-34/Desktop/a.txt\", 'r')\n",
    "destination=open(\"C:/Users/Faculty-34/Desktop/b.txt\", 'w')\n",
    "for line in source:\n",
    "    destination.write(line)\n",
    "source.close()\n",
    "destination.close()"
   ]
  },
  {
   "cell_type": "code",
   "execution_count": 15,
   "id": "3dabffc4",
   "metadata": {},
   "outputs": [],
   "source": [
    "#write to a file\n",
    "aa=open(\"C:/Users/Faculty-34/Desktop/a.txt\", 'w+')\n",
    "aa.write('this file is a.txt')\n",
    "aa.write('to add more lines')\n",
    "aa.close()"
   ]
  }
 ],
 "metadata": {
  "kernelspec": {
   "display_name": "Python 3 (ipykernel)",
   "language": "python",
   "name": "python3"
  },
  "language_info": {
   "codemirror_mode": {
    "name": "ipython",
    "version": 3
   },
   "file_extension": ".py",
   "mimetype": "text/x-python",
   "name": "python",
   "nbconvert_exporter": "python",
   "pygments_lexer": "ipython3",
   "version": "3.9.13"
  }
 },
 "nbformat": 4,
 "nbformat_minor": 5
}
